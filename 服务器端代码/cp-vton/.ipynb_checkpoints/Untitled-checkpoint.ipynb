{
 "cells": [
  {
   "cell_type": "code",
   "execution_count": 1,
   "metadata": {},
   "outputs": [],
   "source": [
    "import paramiko  # 用于调用scp命令\n",
    "from scp import SCPClient\n",
    "\n",
    "\n",
    "def ssh_scp_put(ip, username, password, local_file, remote_path):\n",
    "\n",
    "    ssh = paramiko.SSHClient()\n",
    "    ssh.load_system_host_keys()\n",
    "    ssh.set_missing_host_key_policy(paramiko.AutoAddPolicy())\n",
    "\n",
    "    ssh.connect(hostname=str(ip), port=22, username=username, password=password)\n",
    "\n",
    "    scp = SCPClient(ssh.get_transport())\n",
    "    scp.put(local_file, recursive=True, remote_path=remote_path)\n",
    "    scp.close()\n",
    "\n",
    "\n",
    "def remote_scp(host_ip, remote_path, local_path, username, password):\n",
    "    try:\n",
    "        t = paramiko.Transport((host_ip, 22))\n",
    "        t.connect(username=username, password=password) # 登录远程服务器\n",
    "        sftp = paramiko.SFTPClient.from_transport(t) # sftp传输协议\n",
    "        src = remote_path\n",
    "        des = local_path\n",
    "        sftp.get(src, des) #下载文件\n",
    "        # sftp.put(updatepath_file(),src) #上传文件\n",
    "        t.close()\n",
    "        return True\n",
    "        \n",
    "    except IOError as e:\n",
    "        #print(e)\n",
    "        return False\n",
    "\n",
    "if __name__ == '__main__':\n",
    "    ip = \"10.110.210.24\"\n",
    "    username = \"ypd-24-2\"\n",
    "    password = \"ypd-24-2\"\n",
    "\n",
    "    local_up1 = \"./data/test/cloth/004325_1.jpg\"\n",
    "    remote_up1 = \"/home/ypd-24-2/DownLoad/cp-vton/data/test/cloth/004325_1.jpg\"\n",
    "    local_up2 = \"./data/test/image/000010_0.jpg\"\n",
    "    remote_up2 = \"/home/ypd-24-2/DownLoad/cp-vton/data/test/image/000010_0.jpg\"\n",
    "    local_down = \"./data/test/tom_final.pth/test/try-on/result.jpg\"\n",
    "    remote_down = \"/home/ypd-24-2/DownLoad/cp-vton/data/test/tom_final.pth/test/try-on/result.jpg\"\n",
    "\n",
    "#     ssh_scp_put(ip, username, password, local_up, remote_up)\n",
    "#     print(\"finished up\")\n",
    "#     remote_scp(ip, remote_down, local_down, username, password)\n",
    "#     print(\"finished down\")\n",
    "\n"
   ]
  },
  {
   "cell_type": "code",
   "execution_count": 2,
   "metadata": {},
   "outputs": [
    {
     "ename": "NameError",
     "evalue": "name 'num' is not defined",
     "output_type": "error",
     "traceback": [
      "\u001b[1;31m---------------------------------------------------------------------------\u001b[0m",
      "\u001b[1;31mNameError\u001b[0m                                 Traceback (most recent call last)",
      "\u001b[1;32m<ipython-input-2-95098c451f3f>\u001b[0m in \u001b[0;36m<module>\u001b[1;34m\u001b[0m\n\u001b[0;32m     32\u001b[0m             \u001b[0mos\u001b[0m\u001b[1;33m.\u001b[0m\u001b[0mremove\u001b[0m\u001b[1;33m(\u001b[0m\u001b[0mlocal_up2\u001b[0m\u001b[1;33m)\u001b[0m\u001b[1;33m\u001b[0m\u001b[1;33m\u001b[0m\u001b[0m\n\u001b[0;32m     33\u001b[0m             \u001b[0mnum\u001b[0m \u001b[1;33m=\u001b[0m \u001b[1;36m0\u001b[0m\u001b[1;33m\u001b[0m\u001b[1;33m\u001b[0m\u001b[0m\n\u001b[1;32m---> 34\u001b[1;33m     \u001b[1;32mif\u001b[0m\u001b[1;33m(\u001b[0m\u001b[0mnum\u001b[0m\u001b[1;33m==\u001b[0m\u001b[1;36m0\u001b[0m\u001b[1;33m)\u001b[0m\u001b[1;33m:\u001b[0m\u001b[1;33m\u001b[0m\u001b[1;33m\u001b[0m\u001b[0m\n\u001b[0m\u001b[0;32m     35\u001b[0m         \u001b[1;32mif\u001b[0m\u001b[1;33m(\u001b[0m\u001b[1;33m(\u001b[0m\u001b[0mremote_scp\u001b[0m\u001b[1;33m(\u001b[0m\u001b[0mip\u001b[0m\u001b[1;33m,\u001b[0m \u001b[0mremote_down\u001b[0m\u001b[1;33m,\u001b[0m \u001b[0mlocal_down\u001b[0m\u001b[1;33m,\u001b[0m \u001b[0musername\u001b[0m\u001b[1;33m,\u001b[0m \u001b[0mpassword\u001b[0m\u001b[1;33m)\u001b[0m\u001b[1;33m)\u001b[0m\u001b[1;33m)\u001b[0m\u001b[1;33m:\u001b[0m\u001b[1;33m\u001b[0m\u001b[1;33m\u001b[0m\u001b[0m\n\u001b[0;32m     36\u001b[0m             \u001b[0mnum\u001b[0m \u001b[1;33m=\u001b[0m \u001b[1;36m1\u001b[0m\u001b[1;33m\u001b[0m\u001b[1;33m\u001b[0m\u001b[0m\n",
      "\u001b[1;31mNameError\u001b[0m: name 'num' is not defined"
     ]
    }
   ],
   "source": [
    "import os\n",
    "import time\n",
    "from PIL import Image\n",
    "import numpy as np\n",
    "num = 0\n",
    "# rootdir = 'D:\\cp-vton1'#树莓派蓝牙文件夹 提前随便存一个文件\n",
    "# list = os.listdir(rootdir) #列出文件夹下所有的目录与文件\n",
    "while True:\n",
    "    time.sleep(0.1)\n",
    "#     if len(list)==2:\n",
    "#         for i in range(2):\n",
    "#             path = os.path.join(rootdir,list[i])\n",
    "#             file=os.path.splitext(path)\n",
    "#             filename,type=file\n",
    "#             if type==\".jpg\":\n",
    "#                 cloth_path = path\n",
    "#                 print(path)\n",
    "#                 break\n",
    "    a = os.path.exists(local_up1)\n",
    "    b = os.path.exists(local_up2)\n",
    "    if(a):\n",
    "        if(b):\n",
    "#             image_file = Image.open('./data/test/image/000010_0.jpg')        \n",
    "#             image_out = image_file.resize((x_s,y_s),Image.ANTIALIAS) \n",
    "#             image_out.save('./data/test/image/000010_0.jpg')\n",
    "#             print(image_out.size)\n",
    "            #更改image大小 ->(192,256)\n",
    "            ssh_scp_put(ip, username, password, local_up1, remote_up1)\n",
    "            print(\"finished up\")\n",
    "            ssh_scp_put(ip, username, password, local_up2, remote_up2)\n",
    "            os.remove(local_up1)\n",
    "            os.remove(local_up2)\n",
    "            num = 0\n",
    "    if(num==0):\n",
    "        if((remote_scp(ip, remote_down, local_down, username, password))):\n",
    "            num = 1\n",
    "            print(\"finished down\")\n"
   ]
  },
  {
   "cell_type": "code",
   "execution_count": null,
   "metadata": {},
   "outputs": [],
   "source": []
  },
  {
   "cell_type": "code",
   "execution_count": null,
   "metadata": {},
   "outputs": [],
   "source": []
  }
 ],
 "metadata": {
  "kernelspec": {
   "display_name": "Python 3",
   "language": "python",
   "name": "python3"
  },
  "language_info": {
   "codemirror_mode": {
    "name": "ipython",
    "version": 3
   },
   "file_extension": ".py",
   "mimetype": "text/x-python",
   "name": "python",
   "nbconvert_exporter": "python",
   "pygments_lexer": "ipython3",
   "version": "3.8.3"
  }
 },
 "nbformat": 4,
 "nbformat_minor": 4
}
