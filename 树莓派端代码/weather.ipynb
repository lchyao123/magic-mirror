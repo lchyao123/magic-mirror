{
 "cells": [
  {
   "cell_type": "code",
   "execution_count": 33,
   "metadata": {},
   "outputs": [
    {
     "name": "stdout",
     "output_type": "stream",
     "text": [
      "高温 4℃   低温 -5℃   晴   西风   \n",
      "感冒多发期，适当减少外出频率，适量补充水分，适当增减衣物。\n"
     ]
    }
   ],
   "source": [
    "import json, requests, pprint\n",
    "\n",
    "weatherJsonUrl = \"http://wthrcdn.etouch.cn/weather_mini?city=北京\"  # 将链接定义为一个字符串\n",
    "response = requests.get(weatherJsonUrl)  # 获取并下载页面，其内容会保存在respons.text成员变量里面\n",
    "response.raise_for_status()  # 这句代码的意思如果请求失败的话就会抛出异常，请求正常就上面也不会做\n",
    "\n",
    "# 将json文件格式导入成python的格式\n",
    "weatherData = json.loads(response.text)\n",
    "#pprint.pprint(weatherData)\n",
    "\n",
    "'''weather_dict = dict()\n",
    "weather_dict['high'] = weatherData['data']['forecast'][0]['high']\n",
    "weather_dict['low'] = weatherData['data']['forecast'][0]['low']\n",
    "weather_dict['type'] = weatherData['data']['forecast'][0]['type']\n",
    "weather_dict['fengxiang'] = weatherData['data']['forecast'][0]['fengxiang']\n",
    "weather_dict['ganmao'] = weatherData['data']['ganmao']\n",
    "print(weather_dict['high'])\n",
    "pprint.pprint(weather_dict['high'],weather_dict['low'],weather_dict['type'],weather_dict['fengxiang'],weather_dict['ganmao'])'''\n",
    "#print(weather_dict)\n",
    "weather_json = \"\"\n",
    "weather_json += str(weatherData['data']['forecast'][0]['high'])+\"   \"\n",
    "weather_json += str(weatherData['data']['forecast'][0]['low'])+\"   \"\n",
    "weather_json += str(weatherData['data']['forecast'][0]['type'])+\"   \"\n",
    "weather_json += str(weatherData['data']['forecast'][0]['fengxiang'])+\"   \"\n",
    "print(weather_json)\n",
    "suggest = str(weatherData['data']['ganmao'])\n",
    "print(suggest)"
   ]
  },
  {
   "cell_type": "code",
   "execution_count": null,
   "metadata": {},
   "outputs": [],
   "source": []
  }
 ],
 "metadata": {
  "kernelspec": {
   "display_name": "Python 3",
   "language": "python",
   "name": "python3"
  },
  "language_info": {
   "codemirror_mode": {
    "name": "ipython",
    "version": 3
   },
   "file_extension": ".py",
   "mimetype": "text/x-python",
   "name": "python",
   "nbconvert_exporter": "python",
   "pygments_lexer": "ipython3",
   "version": "3.7.1"
  }
 },
 "nbformat": 4,
 "nbformat_minor": 4
}
